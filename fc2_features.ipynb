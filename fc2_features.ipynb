{
 "cells": [
  {
   "cell_type": "code",
   "execution_count": 22,
   "metadata": {},
   "outputs": [
    {
     "name": "stdout",
     "output_type": "stream",
     "text": [
      "0000ae056149919f.hdf5 was created\n",
      "008a3aeac552890e.hdf5 was created\n",
      "Done!!!\n"
     ]
    }
   ],
   "source": [
    "from keras.applications import VGG16\n",
    "from keras.applications import imagenet_utils\n",
    "from keras.preprocessing.image import img_to_array\n",
    "from keras.preprocessing.image import load_img\n",
    "from keras.models import Model\n",
    "from imutils import paths # pip install imutils\n",
    "import numpy as np\n",
    "import random\n",
    "import os\n",
    "import h5py\n",
    "\n",
    "path = 'images/train'\n",
    "output_path_for_features = \"features/vgg16/\"\n",
    "\n",
    "list_of_folders = ['0','1','2','3','4','5','6','7','8','9','a','b','c','d','e','f']\n",
    "\n",
    "\n",
    "for i in list_of_folders:\n",
    "    for j in list_of_folders:\n",
    "        for k in list_of_folders:\n",
    "            os.makedirs(output_path_for_features + '/' + i + '/' + j + '/' + k)\n",
    "\n",
    "imagePaths = list(paths.list_images(path))\n",
    "\n",
    "base_model = VGG16(weights=\"imagenet\")\n",
    "model = Model(inputs = base_model.input, outputs = base_model.get_layer('fc2').output)\n",
    "\n",
    "for imagePath in imagePaths:\n",
    "\n",
    "    output_hdf5_file = imagePath[-20:-4] + \".hdf5\"\n",
    "    name_feature = imagePath[-20:-4]\n",
    "    \n",
    "    image = load_img(imagePath, target_size = (224, 224))\n",
    "    image = img_to_array(image)\n",
    "    image = np.expand_dims(image, axis = 0)\n",
    "    image = imagenet_utils.preprocess_input(image)\n",
    "    \n",
    "    fc2_features = model.predict(image)\n",
    "    fc2_features = np.array(fc2_features).flatten()\n",
    "    \n",
    "    save = output_path_for_features + name_feature[0] + '/' + name_feature[1] + '/' + name_feature[2]+ '/' + output_hdf5_file\n",
    "    if os.path.exists(save):\n",
    "        raise ValueError(\"Already exist -> \", save)\n",
    "    else:\n",
    "        with h5py.File(save, \"w\") as db:\n",
    "            data = db.create_dataset(name_feature, (1, 4096), dtype = \"float\", data = fc2_features)\n",
    "            db.close()\n",
    "            print(output_hdf5_file + \" was created\")\n",
    "print(\"Done!!!\")"
   ]
  },
  {
   "cell_type": "code",
   "execution_count": null,
   "metadata": {},
   "outputs": [],
   "source": []
  },
  {
   "cell_type": "code",
   "execution_count": null,
   "metadata": {},
   "outputs": [],
   "source": []
  }
 ],
 "metadata": {
  "kernelspec": {
   "display_name": "Python 3",
   "language": "python",
   "name": "python3"
  },
  "language_info": {
   "codemirror_mode": {
    "name": "ipython",
    "version": 3
   },
   "file_extension": ".py",
   "mimetype": "text/x-python",
   "name": "python",
   "nbconvert_exporter": "python",
   "pygments_lexer": "ipython3",
   "version": "3.7.4"
  }
 },
 "nbformat": 4,
 "nbformat_minor": 2
}
