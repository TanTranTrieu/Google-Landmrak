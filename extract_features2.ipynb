{
 "cells": [
  {
   "cell_type": "code",
   "execution_count": 41,
   "metadata": {
    "slideshow": {
     "slide_type": "-"
    }
   },
   "outputs": [],
   "source": [
    "from keras.applications import VGG16\n",
    "from keras.applications import imagenet_utils\n",
    "from keras.preprocessing.image import img_to_array\n",
    "from keras.preprocessing.image import load_img\n",
    "from sklearn.preprocessing import LabelEncoder\n",
    "from imutils import paths # pip install imutils\n",
    "import numpy as np\n",
    "import random\n",
    "import os\n",
    "import h5py\n",
    "\n",
    "path = 'images/train'\n",
    "output_path_for_features = \"features/vgg16/\"\n",
    "\n",
    "list_of_folders = ['0','1','2','3','4','5','6','7','8','9','a','b','c','d','e','f']\n",
    "\n",
    "\n",
    "for i in list_of_folders:\n",
    "    for j in list_of_folders:\n",
    "        for k in list_of_folders:\n",
    "            os.makedirs(output_path_for_features + '/' + i + '/' + j + '/' + k)\n",
    "\n",
    "imagePaths = list(paths.list_images(path))\n",
    "model = VGG16(weights=\"imagenet\", include_top=False)\n",
    "\n",
    "for subfolder in imagePaths:\n",
    "    \n",
    "    output_ = subfolder[-20:-4] + \".hdf5\"\n",
    "    name_feature = subfolder[-20:-4]\n",
    "    \n",
    "    image = load_img(subfolder, target_size=(224, 224))\n",
    "    image = img_to_array(image)\n",
    "    image = np.expand_dims(image, axis = 0)\n",
    "    image = imagenet_utils.preprocess_input(image)\n",
    "    \n",
    "    features = model.predict(image)\n",
    "    features = np.array(features).flatten()\n",
    "    \n",
    "    if os.path.exists(output_):\n",
    "        raise ValueError(\"Already exist -> \", output_)\n",
    "    else:\n",
    "        save = output_path_for_features + name_feature[0] + '/' + name_feature[1] + '/' + name_feature[2]+ '/' + output_\n",
    "        with h5py.File(save, \"w\") as db:\n",
    "            data = db.create_dataset(name_feature, (1, 512 * 7 * 7), dtype=\"float\", data = features)\n",
    "            db.close()\n",
    "\n",
    "# filename = output_\n",
    "# with h5py.File(filename, 'r') as f:\n",
    "#      # List all groups\n",
    "#     print(\"Keys: %s\" % f.keys())\n",
    "#     a_group_key = list(f.keys())[0]\n",
    "\n",
    "#     # Get the data\n",
    "#     data = np.array(f[a_group_key])\n",
    "#     print(data)\n",
    "\n",
    "\n",
    "\n"
   ]
  },
  {
   "cell_type": "code",
   "execution_count": null,
   "metadata": {},
   "outputs": [],
   "source": []
  },
  {
   "cell_type": "code",
   "execution_count": null,
   "metadata": {},
   "outputs": [],
   "source": []
  }
 ],
 "metadata": {
  "kernelspec": {
   "display_name": "Python 3",
   "language": "python",
   "name": "python3"
  },
  "language_info": {
   "codemirror_mode": {
    "name": "ipython",
    "version": 3
   },
   "file_extension": ".py",
   "mimetype": "text/x-python",
   "name": "python",
   "nbconvert_exporter": "python",
   "pygments_lexer": "ipython3",
   "version": "3.7.4"
  }
 },
 "nbformat": 4,
 "nbformat_minor": 2
}
